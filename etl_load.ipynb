{
 "cells": [
  {
   "cell_type": "markdown",
   "id": "391ce5d9",
   "metadata": {},
   "source": [
    "#### Section 1: Load Setup\n",
    "\n",
    "- Import libraries\n"
   ]
  },
  {
   "cell_type": "code",
   "execution_count": 3,
   "id": "1e02dec8",
   "metadata": {},
   "outputs": [],
   "source": [
    "# Importing necessary libraries\n",
    "import pandas as pd\n",
    "\n",
    "# Loading 'transformed_full.csv' and 'transformed_incremental.csv'\n",
    "full_data = pd.read_csv(\"transformed_full.csv\")\n",
    "incremental_data = pd.read_csv(\"transformed_incremental.csv\")\n"
   ]
  },
  {
   "cell_type": "markdown",
   "id": "14638dca",
   "metadata": {},
   "source": [
    "#### Section 2: Load Full Transformed Data\n",
    "\n"
   ]
  },
  {
   "cell_type": "code",
   "execution_count": 4,
   "id": "2022e8ab",
   "metadata": {},
   "outputs": [],
   "source": [
    "# Loading 'transformed_full.csv' to Parquet\n",
    "full_data.to_parquet('loaded_data/full_data.parquet', index=False)\n"
   ]
  },
  {
   "cell_type": "markdown",
   "id": "48a21ded",
   "metadata": {},
   "source": [
    "#### Section 3: Load Incremental Transformed Data"
   ]
  },
  {
   "cell_type": "code",
   "execution_count": 5,
   "id": "9c68d7a9",
   "metadata": {},
   "outputs": [],
   "source": [
    "# Loading 'transformed_incremental.csv' to Parquet\n",
    "incremental_data.to_parquet('loaded_data/incremental_data.parquet', index=False)\n"
   ]
  },
  {
   "cell_type": "markdown",
   "id": "99f4ece6",
   "metadata": {},
   "source": [
    "#### Section 4: Verification (read parquet and show .head())"
   ]
  },
  {
   "cell_type": "code",
   "execution_count": 6,
   "id": "1946ac54",
   "metadata": {},
   "outputs": [
    {
     "name": "stdout",
     "output_type": "stream",
     "text": [
      "    id  Mitai_Sold        Date  Amount         Last_Updated Amount_Category\n",
      "0  636   Ras Malai  2024-11-02     376  2024-11-02 05:31:00          0-1000\n",
      "1  405       Barfi  2024-11-02    1384  2024-11-02 04:28:00       1001-2000\n",
      "2  332   Badam Pak  2024-11-02    4000  2024-11-02 06:12:00       4001-5000\n",
      "3  291       Barfi  2024-11-02    1002  2024-11-02 13:17:00       1001-2000\n",
      "4  854  Kaju Katri  2024-11-03    2202  2024-11-03 01:55:00       2001-3000\n",
      "    id   Mitai_Sold        Date  Amount         Last_Updated Amount_Category\n",
      "0  366        Barfi  2024-12-01    2776  2024-12-01 18:44:00       2001-3000\n",
      "1  520        Barfi  2024-12-01    2488  2024-12-01 12:09:00       2001-3000\n",
      "2  675  Gulab Jamun  2024-12-02    3890  2024-12-02 06:57:00       3001-4000\n",
      "3  121    Ras Malai  2024-12-02    3838  2024-12-02 03:19:00       3001-4000\n",
      "4  814        Ladoo  2024-12-02    4084  2024-12-02 02:38:00       4001-5000\n"
     ]
    }
   ],
   "source": [
    "# Previewing stored results\n",
    "loaded_full_data = pd.read_parquet('loaded_data/full_data.parquet')\n",
    "print(loaded_full_data.head())\n",
    "\n",
    "loaded_incremental_data = pd.read_parquet('loaded_data/incremental_data.parquet')\n",
    "print(loaded_incremental_data.head())"
   ]
  }
 ],
 "metadata": {
  "kernelspec": {
   "display_name": "Python 3",
   "language": "python",
   "name": "python3"
  },
  "language_info": {
   "codemirror_mode": {
    "name": "ipython",
    "version": 3
   },
   "file_extension": ".py",
   "mimetype": "text/x-python",
   "name": "python",
   "nbconvert_exporter": "python",
   "pygments_lexer": "ipython3",
   "version": "3.12.10"
  }
 },
 "nbformat": 4,
 "nbformat_minor": 5
}
