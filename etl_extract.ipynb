{
 "cells": [
  {
   "cell_type": "markdown",
   "id": "cd1e7ce8",
   "metadata": {},
   "source": [
    "## Generating realistic synthetic data."
   ]
  },
  {
   "cell_type": "code",
   "execution_count": 3,
   "id": "4b01bfef",
   "metadata": {},
   "outputs": [
    {
     "data": {
      "application/vnd.microsoft.datawrangler.viewer.v0+json": {
       "columns": [
        {
         "name": "index",
         "rawType": "int64",
         "type": "integer"
        },
        {
         "name": "id",
         "rawType": "int64",
         "type": "integer"
        },
        {
         "name": "Mitai_Sold",
         "rawType": "object",
         "type": "string"
        },
        {
         "name": "Date",
         "rawType": "object",
         "type": "string"
        },
        {
         "name": "Amount",
         "rawType": "int64",
         "type": "integer"
        },
        {
         "name": "Last_Updated",
         "rawType": "object",
         "type": "string"
        }
       ],
       "ref": "388970fc-2f73-4cc0-9387-c95e16a2856f",
       "rows": [
        [
         "0",
         "636",
         "Ras Malai",
         "2024-11-02",
         "376",
         "2024-11-02T05:31:00"
        ],
        [
         "1",
         "405",
         "Barfi",
         "2024-11-02",
         "1384",
         "2024-11-02T04:28:00"
        ],
        [
         "2",
         "332",
         "Badam Pak",
         "2024-11-02",
         "4000",
         "2024-11-02T06:12:00"
        ],
        [
         "3",
         "291",
         "Barfi",
         "2024-11-02",
         "1002",
         "2024-11-02T13:17:00"
        ],
        [
         "4",
         "854",
         "Kaju Katri",
         "2024-11-03",
         "2202",
         "2024-11-03T01:55:00"
        ]
       ],
       "shape": {
        "columns": 5,
        "rows": 5
       }
      },
      "text/html": [
       "<div>\n",
       "<style scoped>\n",
       "    .dataframe tbody tr th:only-of-type {\n",
       "        vertical-align: middle;\n",
       "    }\n",
       "\n",
       "    .dataframe tbody tr th {\n",
       "        vertical-align: top;\n",
       "    }\n",
       "\n",
       "    .dataframe thead th {\n",
       "        text-align: right;\n",
       "    }\n",
       "</style>\n",
       "<table border=\"1\" class=\"dataframe\">\n",
       "  <thead>\n",
       "    <tr style=\"text-align: right;\">\n",
       "      <th></th>\n",
       "      <th>id</th>\n",
       "      <th>Mitai_Sold</th>\n",
       "      <th>Date</th>\n",
       "      <th>Amount</th>\n",
       "      <th>Last_Updated</th>\n",
       "    </tr>\n",
       "  </thead>\n",
       "  <tbody>\n",
       "    <tr>\n",
       "      <th>0</th>\n",
       "      <td>636</td>\n",
       "      <td>Ras Malai</td>\n",
       "      <td>2024-11-02</td>\n",
       "      <td>376</td>\n",
       "      <td>2024-11-02T05:31:00</td>\n",
       "    </tr>\n",
       "    <tr>\n",
       "      <th>1</th>\n",
       "      <td>405</td>\n",
       "      <td>Barfi</td>\n",
       "      <td>2024-11-02</td>\n",
       "      <td>1384</td>\n",
       "      <td>2024-11-02T04:28:00</td>\n",
       "    </tr>\n",
       "    <tr>\n",
       "      <th>2</th>\n",
       "      <td>332</td>\n",
       "      <td>Badam Pak</td>\n",
       "      <td>2024-11-02</td>\n",
       "      <td>4000</td>\n",
       "      <td>2024-11-02T06:12:00</td>\n",
       "    </tr>\n",
       "    <tr>\n",
       "      <th>3</th>\n",
       "      <td>291</td>\n",
       "      <td>Barfi</td>\n",
       "      <td>2024-11-02</td>\n",
       "      <td>1002</td>\n",
       "      <td>2024-11-02T13:17:00</td>\n",
       "    </tr>\n",
       "    <tr>\n",
       "      <th>4</th>\n",
       "      <td>854</td>\n",
       "      <td>Kaju Katri</td>\n",
       "      <td>2024-11-03</td>\n",
       "      <td>2202</td>\n",
       "      <td>2024-11-03T01:55:00</td>\n",
       "    </tr>\n",
       "  </tbody>\n",
       "</table>\n",
       "</div>"
      ],
      "text/plain": [
       "    id  Mitai_Sold        Date  Amount         Last_Updated\n",
       "0  636   Ras Malai  2024-11-02     376  2024-11-02T05:31:00\n",
       "1  405       Barfi  2024-11-02    1384  2024-11-02T04:28:00\n",
       "2  332   Badam Pak  2024-11-02    4000  2024-11-02T06:12:00\n",
       "3  291       Barfi  2024-11-02    1002  2024-11-02T13:17:00\n",
       "4  854  Kaju Katri  2024-11-03    2202  2024-11-03T01:55:00"
      ]
     },
     "execution_count": 3,
     "metadata": {},
     "output_type": "execute_result"
    }
   ],
   "source": [
    "# Generating the dataset\n",
    "\n",
    "# Importing the necessary libraries\n",
    "import pandas as pd\n",
    "import numpy as np\n",
    "from datetime import datetime, timedelta\n",
    "import random\n",
    "\n",
    "# Simulate 60 days (2 months) of data\n",
    "mitai = ['Gulab Jamun', 'Ras Malai', 'Badam Pak', 'Barfi', 'Ladoo', 'Kaju Katri']  # Indian Sweets\n",
    "data = []\n",
    "start_date = datetime(2024, 11, 1)  # Start Date: 1st November 2024\n",
    "\n",
    "for i in range(1, 61):\n",
    "    date = start_date + timedelta(days=i)\n",
    "    for _ in range(random.randint(3, 6)):  # 3–6 mitai sales per day\n",
    "        data.append({\n",
    "            'id': random.randint(100, 1000),\n",
    "            'Mitai_Sold': random.choice(mitai),\n",
    "            'Date': date.date().isoformat(),\n",
    "            'Amount': random.randint(100, 4500),  # amount paid in ksh\n",
    "            'Last_Updated': (date + timedelta(hours=random.randint(0, 23),\n",
    "                                              minutes=random.randint(0, 59))).isoformat()\n",
    "        })\n",
    "        \n",
    "df = pd.DataFrame(data)\n",
    "df.to_csv('mitai_sales_data.csv', index=False)\n",
    "\n",
    "# Display the first 5 rows\n",
    "df.head()"
   ]
  },
  {
   "cell_type": "markdown",
   "id": "51608e60",
   "metadata": {},
   "source": [
    "## Section 1: Full Extraction\n",
    "\n",
    "•\n",
    "Load the entire dataset\n",
    "\n",
    "•\n",
    "Display basic stats (rows, columns, sample)\n",
    "\n",
    "•\n",
    "Print a message like: “Extracted X rows fully.”"
   ]
  },
  {
   "cell_type": "code",
   "execution_count": 9,
   "id": "4318155e",
   "metadata": {},
   "outputs": [
    {
     "name": "stdout",
     "output_type": "stream",
     "text": [
      "Extracted 282 rows fully.\n",
      "Number of rows: 282\n",
      "Number of columns: 5\n"
     ]
    },
    {
     "data": {
      "application/vnd.microsoft.datawrangler.viewer.v0+json": {
       "columns": [
        {
         "name": "index",
         "rawType": "int64",
         "type": "integer"
        },
        {
         "name": "id",
         "rawType": "int64",
         "type": "integer"
        },
        {
         "name": "Mitai_Sold",
         "rawType": "object",
         "type": "string"
        },
        {
         "name": "Date",
         "rawType": "object",
         "type": "string"
        },
        {
         "name": "Amount",
         "rawType": "int64",
         "type": "integer"
        },
        {
         "name": "Last_Updated",
         "rawType": "datetime64[ns]",
         "type": "datetime"
        }
       ],
       "ref": "0f693441-b426-4d80-baa7-62b58c93748e",
       "rows": [
        [
         "0",
         "636",
         "Ras Malai",
         "2024-11-02",
         "376",
         "2024-11-02 05:31:00"
        ],
        [
         "1",
         "405",
         "Barfi",
         "2024-11-02",
         "1384",
         "2024-11-02 04:28:00"
        ],
        [
         "2",
         "332",
         "Badam Pak",
         "2024-11-02",
         "4000",
         "2024-11-02 06:12:00"
        ],
        [
         "3",
         "291",
         "Barfi",
         "2024-11-02",
         "1002",
         "2024-11-02 13:17:00"
        ],
        [
         "4",
         "854",
         "Kaju Katri",
         "2024-11-03",
         "2202",
         "2024-11-03 01:55:00"
        ]
       ],
       "shape": {
        "columns": 5,
        "rows": 5
       }
      },
      "text/html": [
       "<div>\n",
       "<style scoped>\n",
       "    .dataframe tbody tr th:only-of-type {\n",
       "        vertical-align: middle;\n",
       "    }\n",
       "\n",
       "    .dataframe tbody tr th {\n",
       "        vertical-align: top;\n",
       "    }\n",
       "\n",
       "    .dataframe thead th {\n",
       "        text-align: right;\n",
       "    }\n",
       "</style>\n",
       "<table border=\"1\" class=\"dataframe\">\n",
       "  <thead>\n",
       "    <tr style=\"text-align: right;\">\n",
       "      <th></th>\n",
       "      <th>id</th>\n",
       "      <th>Mitai_Sold</th>\n",
       "      <th>Date</th>\n",
       "      <th>Amount</th>\n",
       "      <th>Last_Updated</th>\n",
       "    </tr>\n",
       "  </thead>\n",
       "  <tbody>\n",
       "    <tr>\n",
       "      <th>0</th>\n",
       "      <td>636</td>\n",
       "      <td>Ras Malai</td>\n",
       "      <td>2024-11-02</td>\n",
       "      <td>376</td>\n",
       "      <td>2024-11-02 05:31:00</td>\n",
       "    </tr>\n",
       "    <tr>\n",
       "      <th>1</th>\n",
       "      <td>405</td>\n",
       "      <td>Barfi</td>\n",
       "      <td>2024-11-02</td>\n",
       "      <td>1384</td>\n",
       "      <td>2024-11-02 04:28:00</td>\n",
       "    </tr>\n",
       "    <tr>\n",
       "      <th>2</th>\n",
       "      <td>332</td>\n",
       "      <td>Badam Pak</td>\n",
       "      <td>2024-11-02</td>\n",
       "      <td>4000</td>\n",
       "      <td>2024-11-02 06:12:00</td>\n",
       "    </tr>\n",
       "    <tr>\n",
       "      <th>3</th>\n",
       "      <td>291</td>\n",
       "      <td>Barfi</td>\n",
       "      <td>2024-11-02</td>\n",
       "      <td>1002</td>\n",
       "      <td>2024-11-02 13:17:00</td>\n",
       "    </tr>\n",
       "    <tr>\n",
       "      <th>4</th>\n",
       "      <td>854</td>\n",
       "      <td>Kaju Katri</td>\n",
       "      <td>2024-11-03</td>\n",
       "      <td>2202</td>\n",
       "      <td>2024-11-03 01:55:00</td>\n",
       "    </tr>\n",
       "  </tbody>\n",
       "</table>\n",
       "</div>"
      ],
      "text/plain": [
       "    id  Mitai_Sold        Date  Amount        Last_Updated\n",
       "0  636   Ras Malai  2024-11-02     376 2024-11-02 05:31:00\n",
       "1  405       Barfi  2024-11-02    1384 2024-11-02 04:28:00\n",
       "2  332   Badam Pak  2024-11-02    4000 2024-11-02 06:12:00\n",
       "3  291       Barfi  2024-11-02    1002 2024-11-02 13:17:00\n",
       "4  854  Kaju Katri  2024-11-03    2202 2024-11-03 01:55:00"
      ]
     },
     "execution_count": 9,
     "metadata": {},
     "output_type": "execute_result"
    }
   ],
   "source": [
    "# Implementing FULL EXTRACTION\n",
    "\n",
    "# Loading the entire Dataset\n",
    "df_full = pd.read_csv(\"mitai_sales_data.csv\", parse_dates=[\"Last_Updated\"])\n",
    "\n",
    "# Displaying basic statistics\n",
    "print(f\"Extracted {len(df_full)} rows fully.\")\n",
    "\n",
    "num_rows, num_columns = df_full.shape\n",
    "print(f\"Number of rows: {num_rows}\")\n",
    "print(f\"Number of columns: {num_columns}\")\n",
    "      \n",
    "df_full.head()"
   ]
  },
  {
   "cell_type": "markdown",
   "id": "39b032db",
   "metadata": {},
   "source": [
    "## Section 2: Incremental Extraction\n",
    "•\n",
    "Simulate a last extraction time in last_extraction.txt\n",
    "\n",
    "•\n",
    "Extract only new or updated records\n",
    "\n",
    "•\n",
    "Print: “Extracted Y rows incrementally since last check.”"
   ]
  },
  {
   "cell_type": "code",
   "execution_count": 10,
   "id": "c66c25f7",
   "metadata": {},
   "outputs": [],
   "source": [
    "# Setting initial last extraction time (halfway through the data range)\n",
    "with open(\"last_extraction.txt\", \"w\") as f:\n",
    "    f.write(\"2024-12-01 12:00:00\")  # last extraction time: 1st December 2024 at 12PM"
   ]
  },
  {
   "cell_type": "code",
   "execution_count": 12,
   "id": "5ec39005",
   "metadata": {},
   "outputs": [
    {
     "name": "stdout",
     "output_type": "stream",
     "text": [
      "Extracted 139 rows incrementally since last checked at 2024-12-01 12:00:00.\n"
     ]
    },
    {
     "data": {
      "application/vnd.microsoft.datawrangler.viewer.v0+json": {
       "columns": [
        {
         "name": "index",
         "rawType": "int64",
         "type": "integer"
        },
        {
         "name": "id",
         "rawType": "int64",
         "type": "integer"
        },
        {
         "name": "Mitai_Sold",
         "rawType": "object",
         "type": "string"
        },
        {
         "name": "Date",
         "rawType": "object",
         "type": "string"
        },
        {
         "name": "Amount",
         "rawType": "int64",
         "type": "integer"
        },
        {
         "name": "Last_Updated",
         "rawType": "datetime64[ns]",
         "type": "datetime"
        }
       ],
       "ref": "7dcb04c8-fe19-4f54-98f3-3da5c22c8e5c",
       "rows": [
        [
         "139",
         "366",
         "Barfi",
         "2024-12-01",
         "2776",
         "2024-12-01 18:44:00"
        ],
        [
         "142",
         "520",
         "Barfi",
         "2024-12-01",
         "2488",
         "2024-12-01 12:09:00"
        ],
        [
         "145",
         "675",
         "Gulab Jamun",
         "2024-12-02",
         "3890",
         "2024-12-02 06:57:00"
        ],
        [
         "146",
         "121",
         "Ras Malai",
         "2024-12-02",
         "3838",
         "2024-12-02 03:19:00"
        ],
        [
         "147",
         "814",
         "Ladoo",
         "2024-12-02",
         "4084",
         "2024-12-02 02:38:00"
        ]
       ],
       "shape": {
        "columns": 5,
        "rows": 5
       }
      },
      "text/html": [
       "<div>\n",
       "<style scoped>\n",
       "    .dataframe tbody tr th:only-of-type {\n",
       "        vertical-align: middle;\n",
       "    }\n",
       "\n",
       "    .dataframe tbody tr th {\n",
       "        vertical-align: top;\n",
       "    }\n",
       "\n",
       "    .dataframe thead th {\n",
       "        text-align: right;\n",
       "    }\n",
       "</style>\n",
       "<table border=\"1\" class=\"dataframe\">\n",
       "  <thead>\n",
       "    <tr style=\"text-align: right;\">\n",
       "      <th></th>\n",
       "      <th>id</th>\n",
       "      <th>Mitai_Sold</th>\n",
       "      <th>Date</th>\n",
       "      <th>Amount</th>\n",
       "      <th>Last_Updated</th>\n",
       "    </tr>\n",
       "  </thead>\n",
       "  <tbody>\n",
       "    <tr>\n",
       "      <th>139</th>\n",
       "      <td>366</td>\n",
       "      <td>Barfi</td>\n",
       "      <td>2024-12-01</td>\n",
       "      <td>2776</td>\n",
       "      <td>2024-12-01 18:44:00</td>\n",
       "    </tr>\n",
       "    <tr>\n",
       "      <th>142</th>\n",
       "      <td>520</td>\n",
       "      <td>Barfi</td>\n",
       "      <td>2024-12-01</td>\n",
       "      <td>2488</td>\n",
       "      <td>2024-12-01 12:09:00</td>\n",
       "    </tr>\n",
       "    <tr>\n",
       "      <th>145</th>\n",
       "      <td>675</td>\n",
       "      <td>Gulab Jamun</td>\n",
       "      <td>2024-12-02</td>\n",
       "      <td>3890</td>\n",
       "      <td>2024-12-02 06:57:00</td>\n",
       "    </tr>\n",
       "    <tr>\n",
       "      <th>146</th>\n",
       "      <td>121</td>\n",
       "      <td>Ras Malai</td>\n",
       "      <td>2024-12-02</td>\n",
       "      <td>3838</td>\n",
       "      <td>2024-12-02 03:19:00</td>\n",
       "    </tr>\n",
       "    <tr>\n",
       "      <th>147</th>\n",
       "      <td>814</td>\n",
       "      <td>Ladoo</td>\n",
       "      <td>2024-12-02</td>\n",
       "      <td>4084</td>\n",
       "      <td>2024-12-02 02:38:00</td>\n",
       "    </tr>\n",
       "  </tbody>\n",
       "</table>\n",
       "</div>"
      ],
      "text/plain": [
       "      id   Mitai_Sold        Date  Amount        Last_Updated\n",
       "139  366        Barfi  2024-12-01    2776 2024-12-01 18:44:00\n",
       "142  520        Barfi  2024-12-01    2488 2024-12-01 12:09:00\n",
       "145  675  Gulab Jamun  2024-12-02    3890 2024-12-02 06:57:00\n",
       "146  121    Ras Malai  2024-12-02    3838 2024-12-02 03:19:00\n",
       "147  814        Ladoo  2024-12-02    4084 2024-12-02 02:38:00"
      ]
     },
     "execution_count": 12,
     "metadata": {},
     "output_type": "execute_result"
    }
   ],
   "source": [
    "# Implementing INCREMENTAL EXTRACTION\n",
    "\n",
    "with open(\"last_extraction.txt\", \"r\") as f:\n",
    "    last_extraction = f.read().strip()\n",
    "\n",
    "df = pd.read_csv(\"mitai_sales_data.csv\", parse_dates=[\"Last_Updated\"])\n",
    "last_extraction_time = pd.to_datetime(last_extraction)\n",
    "\n",
    "# Extracing only new or updated records.\n",
    "df_incremental = df[df['Last_Updated'] > last_extraction_time]\n",
    "\n",
    "print(f\"Extracted {len(df_incremental)} rows incrementally since last checked at {last_extraction}.\")\n",
    "df_incremental.head()"
   ]
  },
  {
   "cell_type": "markdown",
   "id": "4ac95052",
   "metadata": {},
   "source": [
    "## Section 3: Save New Timestamp\n",
    "\n",
    "•\n",
    "After successful incremental extraction, update the last_extraction.txt"
   ]
  },
  {
   "cell_type": "code",
   "execution_count": 13,
   "id": "3a27ad10",
   "metadata": {},
   "outputs": [
    {
     "name": "stdout",
     "output_type": "stream",
     "text": [
      "Updated last_extraction.txt to 2024-12-31 22:55:00\n"
     ]
    }
   ],
   "source": [
    "# Getting the most recent update\n",
    "new_checkpoint = df['Last_Updated'].max()\n",
    "\n",
    "# Save it\n",
    "with open(\"last_extraction.txt\", \"w\") as f:\n",
    "    f.write(new_checkpoint.isoformat())\n",
    "print(f\"Updated last_extraction.txt to {new_checkpoint}\")"
   ]
  },
  {
   "cell_type": "markdown",
   "id": "7ad9e120",
   "metadata": {},
   "source": [
    "## Section 4: Transform Full Data\n",
    "\n",
    "Apply at least 3 transformations to both datasets ('transformed_full.csv', 'transformed_incremental.csv'). Examples:\n",
    "\n",
    "- Cleaning: Handle missing values, remove duplicates.\n",
    "\n",
    "- Enrichment: Add calculated columns (e.g., total_price = quantity * unit_price).\n",
    "\n",
    "- Structural: Convert data types, standardize date formats.\n",
    "\n",
    "- Filtering: Remove irrelevant columns/rows.\n",
    "\n",
    "- Categorization: Bin numerical values (e.g., age groups).\n"
   ]
  },
  {
   "cell_type": "code",
   "execution_count": null,
   "id": "8fb09ff7",
   "metadata": {},
   "outputs": [],
   "source": []
  },
  {
   "cell_type": "markdown",
   "id": "73d571c7",
   "metadata": {},
   "source": [
    "## Section 5: Transform Incremental Data"
   ]
  }
 ],
 "metadata": {
  "kernelspec": {
   "display_name": "Python 3",
   "language": "python",
   "name": "python3"
  },
  "language_info": {
   "codemirror_mode": {
    "name": "ipython",
    "version": 3
   },
   "file_extension": ".py",
   "mimetype": "text/x-python",
   "name": "python",
   "nbconvert_exporter": "python",
   "pygments_lexer": "ipython3",
   "version": "3.12.10"
  }
 },
 "nbformat": 4,
 "nbformat_minor": 5
}
